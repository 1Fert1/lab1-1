{
  "cells": [
    {
      "cell_type": "markdown",
      "metadata": {
        "id": "M-DGa20PaHnu"
      },
      "source": [
        "#Задача 1\n",
        "Написать функцию на вход которой подается строка, состоящая из латинских букв.\n",
        "Функция должна вернуть количество гласных букв (a, e, i, o, u) в этой строке. Написать тесты для кода"
      ]
    },
    {
      "cell_type": "code",
      "execution_count": 1,
      "metadata": {
        "id": "XvX8X_JJ6PCb"
      },
      "outputs": [],
      "source": [
        "def count_vowels(text):\n",
        "    vowels = {'a', 'e', 'i', 'o', 'u'}\n",
        "    count = 0\n",
        "    for char in text.lower():\n",
        "        if char in vowels:\n",
        "            count += 1\n",
        "    return count\n",
        "\n",
        "def test_count_vowels():\n",
        "    assert count_vowels(\"\") == 0\n",
        "    assert count_vowels(\"hello world\") == 3\n",
        "    assert count_vowels(\"AeIoU\") == 5\n",
        "    assert count_vowels(\"aaEEiiOOuu\") == 10\n",
        "test_count_vowels() "
      ]
    },
    {
      "cell_type": "markdown",
      "metadata": {
        "id": "t2ClV_Y0bbr6"
      },
      "source": [
        "# Задача 2\n",
        "Написать функцию на вход, которой подается строка. Функция должна вернуть true, если\n",
        "каждый символ в строке встречается только 1 раз, иначе должна вернуть false. Написать тесты для кода"
      ]
    },
    {
      "cell_type": "code",
      "execution_count": 2,
      "metadata": {
        "id": "FppbECao6VIz"
      },
      "outputs": [],
      "source": [
        "def all_unique_chars(text):\n",
        "    seen_chars = set()\n",
        "    for char in text:\n",
        "        if char in seen_chars:\n",
        "            return False\n",
        "        seen_chars.add(char)\n",
        "    return True\n",
        "\n",
        "def test_all_unique_chars():\n",
        "    assert all_unique_chars('123') == True\n",
        "    assert all_unique_chars(\"\") == True\n",
        "    assert all_unique_chars(\"abc\") == True\n",
        "    assert all_unique_chars(\"a\") == True\n",
        "    assert all_unique_chars(\"hello\") == False\n",
        "    assert all_unique_chars(\"aA\") == True\n",
        "test_all_unique_chars()"
      ]
    },
    {
      "cell_type": "markdown",
      "metadata": {
        "id": "udRiIK1cdt6E"
      },
      "source": [
        "# Задача 3\n",
        "Написать функцию, которая принимает положительное число и возвращает количество\n",
        "бит равных 1 в этом числе. Написать тесты для кода"
      ]
    },
    {
      "cell_type": "code",
      "execution_count": 14,
      "metadata": {
        "id": "6tkfDJRz6dp_"
      },
      "outputs": [],
      "source": [
        "def bits_count(number):\n",
        "    return bin(number).count('1')\n",
        "\n",
        "def test_bits_count():\n",
        "    assert bits_count(0) == 0\n",
        "    assert bits_count(2) == 1\n",
        "    assert bits_count(7) == 3\n",
        "    assert bits_count(255) == 8\n",
        "test_bits_count()"
      ]
    },
    {
      "cell_type": "markdown",
      "metadata": {
        "id": "26dDUz-Ae17N"
      },
      "source": [
        "# Задача 4\n",
        "Написать функцию, которая принимает положительное число. Функция должна вернуть то,\n",
        "сколько раз необходимо перемножать цифры числа или результат перемножения, чтобы\n",
        "получилось число состоящее из одной цифры.\n",
        "Например, для входного числа:\n",
        "· 39 функция должна вернуть 3, так как 3*9=27 => 2*7=14 => 1*4=4\n",
        "· 4 функция должна вернуть 0, так как число уже состоит из одной цифры\n",
        "· 999 функция должна вернуть 4, так как 9*9*9=729 => 7*2*9=126 => 1*2*6=12 =>\n",
        "1*2=2. Написать тесты для кода"
      ]
    },
    {
      "cell_type": "code",
      "execution_count": null,
      "metadata": {
        "id": "BH1A_Mgi6i4G"
      },
      "outputs": [],
      "source": [
        "def magic(n):\n",
        "    if n < 10:\n",
        "        return 0\n",
        "    steps = 0\n",
        "    while n >= 10:\n",
        "        product = 1\n",
        "        for digit in str(n):\n",
        "            product *= int(digit)\n",
        "        n = product\n",
        "        steps += 1\n",
        "    return steps\n",
        "def test_magic():\n",
        "    assert magic(39) == 3\n",
        "    assert magic(999) == 4\n",
        "    assert magic(10) == 1\n",
        "test_magic()"
      ]
    },
    {
      "cell_type": "markdown",
      "metadata": {
        "id": "0nS-kIa8g8vd"
      },
      "source": [
        "# Задача 5\n",
        "Написать функцию, которая принимает два целочисленных вектора одинаковой длины и\n",
        "возвращает среднеквадратическое отклонение двух векторов. Написать тесты для кода"
      ]
    },
    {
      "cell_type": "code",
      "execution_count": 17,
      "metadata": {
        "id": "8iphx4LM6xbx"
      },
      "outputs": [],
      "source": [
        "def mse(pred, true):\n",
        "    if len(pred) != len(true):\n",
        "        raise ValueError(\"Векторы должны быть одинаковой длины\")\n",
        "    \n",
        "    squared_errors = []\n",
        "    for predicted_val, true_val in zip(pred, true):\n",
        "        error = predicted_val - true_val\n",
        "        squared_error = error ** 2\n",
        "        squared_errors.append(squared_error)\n",
        "    \n",
        "    return sum(squared_errors) / len(squared_errors)\n",
        "\n",
        "def test_mse():\n",
        "    assert mse([1, 2, 3], [1, 2, 3]) == 0.0\n",
        "    assert mse([1, 2, 3], [2, 3, 4]) == 1.0\n",
        "    assert mse([-1, -2], [-3, -4]) == 4.0\n",
        "    assert mse([5], [3]) == 4.0\n",
        "test_mse()"
      ]
    },
    {
      "cell_type": "markdown",
      "metadata": {
        "id": "vpIPKL439zkw"
      },
      "source": [
        "# Задача 6\n",
        "Написать функцию, принимающая целое положительное число. Функция должна вернуть\n",
        "строку вида “(n1**p1)(n2**p2)…(nk**pk)” представляющая разложение числа на простые\n",
        "множители (если pi == 1, то выводить только ni).\n",
        "Например, для числа 86240 функция должна вернуть “(2**5)(5)(7**2)(11)”. Написать тесты для кода"
      ]
    },
    {
      "cell_type": "code",
      "execution_count": 59,
      "metadata": {
        "id": "pFebmcZk94Jw"
      },
      "outputs": [],
      "source": [
        "def prime_factor(num: int):\n",
        "    dct = {}\n",
        "    divider = 2\n",
        "\n",
        "    while num > 1:\n",
        "        while num % divider == 0:\n",
        "            if divider in dct:\n",
        "                dct[divider] += 1\n",
        "            else:\n",
        "                dct[divider] = 1\n",
        "            num //= divider\n",
        "        divider += 1\n",
        "\n",
        "    s = \"\"\n",
        "    for key, value in dct.items():\n",
        "        if value == 1:\n",
        "            s += f\"({key})\"\n",
        "        else:\n",
        "            s += f\"({key}**{value})\"\n",
        "    return s\n",
        "\n",
        "# Тесты\n",
        "def test_prime_factors():\n",
        "    assert prime_factor(86240) == \"(2**5)(5)(7**2)(11)\"\n",
        "    assert prime_factor(13) == \"(13)\"\n",
        "test_prime_factors()"
      ]
    },
    {
      "cell_type": "markdown",
      "metadata": {
        "id": "ps2s0BudX7A2"
      },
      "source": [
        "# Задача 7\n",
        "Написать функцию, принимающая целое число n, задающее количество кубиков. Функция\n",
        "должна определить, можно ли из данного кол-ва кубиков построить пирамиду, то есть\n",
        "можно ли представить число n как 1^2+2^2+3^2+…+k^2. Если можно, то функция должна\n",
        "вернуть k, иначе строку “It is impossible”. Написать тесты для кода"
      ]
    },
    {
      "cell_type": "code",
      "execution_count": 22,
      "metadata": {
        "id": "3YPjEXxhX_YT"
      },
      "outputs": [],
      "source": [
        "def pyramid(number):\n",
        "    if not isinstance(number, int) or number <= 0:\n",
        "        return \"It is impossible\"\n",
        "    \n",
        "    k = 0\n",
        "    total = 0\n",
        "    \n",
        "    while total < number:\n",
        "        k += 1\n",
        "        total += k ** 2\n",
        "    \n",
        "    if total == number:\n",
        "        return k\n",
        "    else:\n",
        "        return \"It is impossible\"\n",
        "    \n",
        "def test_pyramid():\n",
        "    assert pyramid(1) == 1\n",
        "    assert pyramid(5) == 2\n",
        "    assert pyramid(14) == 3\n",
        "    assert pyramid(2) == \"It is impossible\"\n",
        "    assert pyramid(4) == \"It is impossible\"\n",
        "test_pyramid()"
      ]
    },
    {
      "cell_type": "markdown",
      "metadata": {
        "id": "KeKgmIdAQMEJ"
      },
      "source": [
        "# Задача 8\n",
        "Функция принимает на вход положительное число и определяет является ли оно сбалансированным, т.е. сумма цифр до средних равна сумме цифр после. Средними в случае нечетного числа цифр считать одну цифру, в случае четного - две средних. Написать тесты для кода"
      ]
    },
    {
      "cell_type": "code",
      "execution_count": 62,
      "metadata": {
        "id": "gMAAqtqlQrZt"
      },
      "outputs": [],
      "source": [
        "def is_balanced(num: int):\n",
        "    lst = [int(i) for i in str(num)]\n",
        "    len_lst = len(lst)\n",
        "\n",
        "    if len_lst % 2 == 0:\n",
        "        if sum(lst[:len_lst // 2 - 1]) == sum(lst[len_lst // 2 + 1:]):\n",
        "            return True\n",
        "        return False\n",
        "    else:\n",
        "        if sum(lst[:len_lst // 2]) == sum(lst[len_lst // 2 + 1:]):\n",
        "            return True\n",
        "        return False\n",
        "\n",
        "\n",
        "def test_is_balanced():\n",
        "    assert is_balanced(123421) == True\n",
        "    assert is_balanced(1) == True  \n",
        "    assert is_balanced(33650) == False\n",
        "test_is_balanced()"
      ]
    },
    {
      "cell_type": "code",
      "execution_count": null,
      "metadata": {},
      "outputs": [],
      "source": []
    }
  ],
  "metadata": {
    "colab": {
      "provenance": []
    },
    "kernelspec": {
      "display_name": "Python 3",
      "name": "python3"
    },
    "language_info": {
      "codemirror_mode": {
        "name": "ipython",
        "version": 3
      },
      "file_extension": ".py",
      "mimetype": "text/x-python",
      "name": "python",
      "nbconvert_exporter": "python",
      "pygments_lexer": "ipython3",
      "version": "3.12.0"
    }
  },
  "nbformat": 4,
  "nbformat_minor": 0
}
